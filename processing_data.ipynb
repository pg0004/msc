{
 "cells": [
  {
   "cell_type": "code",
   "execution_count": 154,
   "metadata": {},
   "outputs": [],
   "source": [
    "import pandas as pd\n",
    "import seaborn as sns\n",
    "from statsmodels.graphics.mosaicplot import mosaic"
   ]
  },
  {
   "cell_type": "code",
   "execution_count": 155,
   "metadata": {},
   "outputs": [],
   "source": [
    "xls = pd.ExcelFile('c:\\BA\\DealNews Offer Data.xlsx')\n",
    "df =pd.read_excel(xls,'Data')"
   ]
  },
  {
   "cell_type": "code",
   "execution_count": 156,
   "metadata": {},
   "outputs": [
    {
     "name": "stdout",
     "output_type": "stream",
     "text": [
      "   content_key  vendor_key   editors_choice      promoted  first_publish_date  \\\n",
      "0      8663119         202  Editor's Choice  Not Promoted 2020-01-03 16:21:23   \n",
      "1      8601826         836  Editor's Choice  Not Promoted 2019-08-18 08:09:51   \n",
      "2      8601828         836  Editor's Choice  Not Promoted 2019-08-18 08:12:54   \n",
      "3      8573931         137  Editor's Choice  Not Promoted 2019-06-18 13:39:48   \n",
      "4      8591887         137  Editor's Choice  Not Promoted 2019-07-29 08:21:13   \n",
      "\n",
      "  holiday_display    level1_category_name level2_category_name  \\\n",
      "0      No Holiday  Clothing & Accessories             T-shirts   \n",
      "1      No Holiday  Clothing & Accessories             T-shirts   \n",
      "2      No Holiday  Clothing & Accessories             T-shirts   \n",
      "3      No Holiday  Clothing & Accessories             T-shirts   \n",
      "4      No Holiday  Clothing & Accessories             T-shirts   \n",
      "\n",
      "  level3_category_name   mfg_id  ... clicks conversion_clicks  \\\n",
      "0             T-shirts    828.0  ...   8184                72   \n",
      "1             T-shirts   1157.0  ...   2604                 0   \n",
      "2             T-shirts  37005.0  ...   5568                 0   \n",
      "3             T-shirts    141.0  ...   1512                 0   \n",
      "4             T-shirts   1947.0  ...   1812                 0   \n",
      "\n",
      "   convertible_clicks return_clicks items_sold   revenue    RPC   sale_amount  \\\n",
      "0                8184             0          0   81.2400  0.0099      1622.04   \n",
      "1                   0             0          0  470.7636  0.1808      8600.52   \n",
      "2                   0             0          0  983.6340  0.1767      3348.36   \n",
      "3                   0             0          0  231.2448  0.1529         0.00   \n",
      "4                   0             0          0  437.2128  0.2413     10143.12   \n",
      "\n",
      "   comission_rate  conversion_rate  \n",
      "0          0.0501           0.0088  \n",
      "1          0.0547              NaN  \n",
      "2          0.2938              NaN  \n",
      "3             NaN              NaN  \n",
      "4          0.0431              NaN  \n",
      "\n",
      "[5 rows x 32 columns]\n"
     ]
    },
    {
     "data": {
      "text/plain": [
       "content_key                        int64\n",
       "vendor_key                         int64\n",
       "editors_choice                    object\n",
       "promoted                          object\n",
       "first_publish_date        datetime64[ns]\n",
       "holiday_display                   object\n",
       "level1_category_name              object\n",
       "level2_category_name              object\n",
       "level3_category_name              object\n",
       "mfg_id                           float64\n",
       "offer_program                     object\n",
       "offer_type                        object\n",
       "product_id                         int64\n",
       "season_display                    object\n",
       "special_shipping_offer            object\n",
       "why_buy                           object\n",
       "cd_list_price                    float64\n",
       "cd_price                         float64\n",
       "discount                         float64\n",
       "shipping_cost                    float64\n",
       "hotness                            int64\n",
       "rank                             float64\n",
       "clicks                             int64\n",
       "conversion_clicks                  int64\n",
       "convertible_clicks                 int64\n",
       "return_clicks                      int64\n",
       "items_sold                         int64\n",
       "revenue                          float64\n",
       "RPC                              float64\n",
       "sale_amount                      float64\n",
       "comission_rate                   float64\n",
       "conversion_rate                  float64\n",
       "dtype: object"
      ]
     },
     "execution_count": 156,
     "metadata": {},
     "output_type": "execute_result"
    }
   ],
   "source": [
    "\n",
    "## print(df.head())\n",
    "# df = pd.DataFrame(df)\n",
    "## print(df.head())\n",
    "## df.columns\n",
    "#################################################\n",
    "#\n",
    "###############################################\n",
    "\n",
    "## read the frequency table of dataset \n",
    "print(df.head())\n",
    "df.dtypes"
   ]
  },
  {
   "cell_type": "code",
   "execution_count": 199,
   "metadata": {},
   "outputs": [],
   "source": [
    "# convert promotion into dummies variable \n",
    "df[\"promoted\"] = df[\"promoted\"].replace([0,1],[\"Not Promoted\",\"Promoted\"])"
   ]
  },
  {
   "cell_type": "code",
   "execution_count": 180,
   "metadata": {
    "scrolled": false
   },
   "outputs": [
    {
     "name": "stdout",
     "output_type": "stream",
     "text": [
      "holiday_display\n",
      "Black Friday                1781\n",
      "Christmas Day                399\n",
      "Christmas Eve                595\n",
      "Columbus Day                 833\n",
      "Cyber Monday                1590\n",
      "Father's Day                 116\n",
      "Independence Day             342\n",
      "Labor Day                    587\n",
      "Martin Luther King Day       656\n",
      "Memorial Day                 485\n",
      "Mother's Day                 114\n",
      "New Year's Day               487\n",
      "New Year's Eve               604\n",
      "No Holiday                146567\n",
      "President's Day              322\n",
      "Thanksgiving                1523\n",
      "Valentine's Day              239\n",
      "Veteran's Day                778\n",
      "dtype: int64\n"
     ]
    }
   ],
   "source": [
    "h_d = df.groupby(by=[\"holiday_display\"])\n",
    "print(h_d.size())\n"
   ]
  },
  {
   "cell_type": "code",
   "execution_count": 59,
   "metadata": {
    "scrolled": true
   },
   "outputs": [
    {
     "data": {
      "text/plain": [
       "<matplotlib.axes._subplots.AxesSubplot at 0xc699e10>"
      ]
     },
     "execution_count": 59,
     "metadata": {},
     "output_type": "execute_result"
    },
    {
     "data": {
      "image/png": "[encoded data removed]",
      "text/plain": [
       "<Figure size 864x576 with 1 Axes>"
      ]
     },
     "metadata": {
      "needs_background": "light"
     },
     "output_type": "display_data"
    }
   ],
   "source": [
    "df[\"holiday_display\"] = df[\"holiday_display\"].astype(\"category\")\n",
    "df[\"holiday_display\"].value_counts().plot(kind=\"line\",figsize=(12,8))"
   ]
  },
  {
   "cell_type": "code",
   "execution_count": 60,
   "metadata": {},
   "outputs": [
    {
     "name": "stdout",
     "output_type": "stream",
     "text": [
      "level1_category_name\n",
      "Automotive                 3414\n",
      "Clothing & Accessories    34311\n",
      "Computers                 16533\n",
      "Electronics               18809\n",
      "Everything Else               4\n",
      "Financial Services           98\n",
      "Gaming & Toys              7595\n",
      "Gift Cards                  189\n",
      "Health & Beauty            9446\n",
      "Home & Garden             53595\n",
      "Local                         1\n",
      "Movies, Music, Books       1833\n",
      "Office Supplies            2335\n",
      "Plugs                        11\n",
      "Site News                     1\n",
      "Special Occasion            290\n",
      "Sports & Fitness           5326\n",
      "Store Events               3337\n",
      "Travel & Entertainment      890\n",
      "dtype: int64\n",
      "                         content_key    vendor_key        mfg_id  \\\n",
      "level1_category_name                                               \n",
      "Automotive              8.973556e+06   5009.939660  20150.676919   \n",
      "Clothing & Accessories  8.924880e+06   5403.299525   5087.929867   \n",
      "Computers               8.917217e+06   3067.142624   4115.897780   \n",
      "Electronics             8.906935e+06   4192.579084  12504.063055   \n",
      "Everything Else         9.792586e+06   5751.500000  31891.500000   \n",
      "Financial Services      1.023877e+07  10862.785714   1300.551020   \n",
      "Gaming & Toys           8.942657e+06   3568.868071   8989.784727   \n",
      "Gift Cards              9.334598e+06   2288.994709   2356.412698   \n",
      "Health & Beauty         8.986584e+06   6403.017362  10306.854103   \n",
      "Home & Garden           8.959821e+06   3700.543316  15324.430448   \n",
      "Local                   9.449890e+06   8435.000000      0.000000   \n",
      "Movies, Music, Books    8.979882e+06   3155.231860   2719.763230   \n",
      "Office Supplies         9.091849e+06   2979.866809  14240.867238   \n",
      "Plugs                   8.718559e+06   6392.818182   5966.636364   \n",
      "Site News               1.083054e+07  17945.000000      0.000000   \n",
      "Special Occasion        9.254177e+06   2879.865517   5714.506897   \n",
      "Sports & Fitness        8.995251e+06   4373.815621  10672.126948   \n",
      "Store Events            9.003092e+06   3762.698232   1005.106083   \n",
      "Travel & Entertainment  8.671718e+06   8604.348315   1066.125843   \n",
      "\n",
      "                          product_id  cd_list_price    cd_price    discount  \\\n",
      "level1_category_name                                                          \n",
      "Automotive              51272.389865      46.602923   42.448430   31.075411   \n",
      "Clothing & Accessories   5423.184227      58.965278   24.286181   72.137991   \n",
      "Computers               43565.965705     460.937813  327.700419  244.320244   \n",
      "Electronics             43824.811526     189.913032  147.966726  121.289263   \n",
      "Everything Else         85361.000000       0.000000    1.995000         NaN   \n",
      "Financial Services          0.000000       0.000000    0.530612         NaN   \n",
      "Gaming & Toys           28119.550889      62.476941   49.579650   38.909348   \n",
      "Gift Cards               3810.894180      24.179683   44.255344   11.035068   \n",
      "Health & Beauty         17785.110841      29.954985   21.893076   25.786422   \n",
      "Home & Garden           37194.221513      97.268181   72.803673   67.713101   \n",
      "Local                       0.000000       0.000000    0.000000         NaN   \n",
      "Movies, Music, Books     4754.589744      35.783039   28.286203   36.268612   \n",
      "Office Supplies         46603.104497      65.189593   51.497113   41.935139   \n",
      "Plugs                   13379.272727      39.085455   17.690909   51.998000   \n",
      "Site News                   0.000000       0.000000    0.000000         NaN   \n",
      "Special Occasion         6009.603448      16.093069   13.024517   20.778627   \n",
      "Sports & Fitness        28089.916635     111.313558   88.673834   68.851033   \n",
      "Store Events               89.725802       0.914180    0.816251   39.941190   \n",
      "Travel & Entertainment     67.983146     200.397787  367.908180  201.904213   \n",
      "\n",
      "                        shipping_cost     hotness      rank  ...  \\\n",
      "level1_category_name                                         ...   \n",
      "Automotive                   0.023512  106.035442  3.017225  ...   \n",
      "Clothing & Accessories       0.420326  107.823380  3.069881  ...   \n",
      "Computers                    0.047485   88.622754  2.774360  ...   \n",
      "Electronics                  0.079749  103.532086  2.942155  ...   \n",
      "Everything Else              0.000000  188.000000  3.750000  ...   \n",
      "Financial Services           0.000000   21.000000  1.323944  ...   \n",
      "Gaming & Toys                0.116086   95.652008  2.897912  ...   \n",
      "Gift Cards                   0.000000   99.074074  2.503145  ...   \n",
      "Health & Beauty              0.210756   86.874444  2.674734  ...   \n",
      "Home & Garden                0.447161  102.533091  2.974803  ...   \n",
      "Local                        0.000000    0.000000  0.000000  ...   \n",
      "Movies, Music, Books         0.037698  123.843426  3.166667  ...   \n",
      "Office Supplies              0.110137   99.864240  2.910401  ...   \n",
      "Plugs                        0.000000   89.818182  1.714286  ...   \n",
      "Site News                    0.000000    0.000000  0.000000  ...   \n",
      "Special Occasion             1.703862   86.527586  2.697211  ...   \n",
      "Sports & Fitness             0.477662  111.979910  3.106564  ...   \n",
      "Store Events                 0.051582  163.692538  3.594118  ...   \n",
      "Travel & Entertainment       0.000000  100.004494  3.375954  ...   \n",
      "\n",
      "                        convertible_clicks  return_clicks   items_sold  \\\n",
      "level1_category_name                                                     \n",
      "Automotive                     5759.683656      21.356766   595.103691   \n",
      "Clothing & Accessories         5985.644487      13.353152   272.426685   \n",
      "Computers                      4432.791871      11.065868   222.335692   \n",
      "Electronics                    6589.245999      23.735871   499.621458   \n",
      "Everything Else                4026.000000      18.000000   825.000000   \n",
      "Financial Services             1125.306122       0.489796    15.306122   \n",
      "Gaming & Toys                  4838.734957      13.598947   409.507307   \n",
      "Gift Cards                     9169.650794      47.047619  1134.793651   \n",
      "Health & Beauty                3861.517679      18.080034   702.597078   \n",
      "Home & Garden                  5396.607221      14.560761   507.162608   \n",
      "Local                           864.000000       0.000000    36.000000   \n",
      "Movies, Music, Books           3473.054010       9.597381   319.751227   \n",
      "Office Supplies                6046.884797      15.335332   753.060385   \n",
      "Plugs                          8805.818182      12.000000   680.727273   \n",
      "Site News                      3984.000000       0.000000     0.000000   \n",
      "Special Occasion               2562.372414       5.131034   324.372414   \n",
      "Sports & Fitness               6810.973338      15.503567   437.535862   \n",
      "Store Events                  21558.102487      41.307761  1159.655978   \n",
      "Travel & Entertainment          639.653933       1.159551     3.910112   \n",
      "\n",
      "                            revenue      RPC    sale_amount  comission_rate  \\\n",
      "level1_category_name                                                          \n",
      "Automotive               929.913398  0.115045  11361.088366        0.068118   \n",
      "Clothing & Accessories   934.301194  0.173147  10302.207324        0.174569   \n",
      "Computers               1548.881801  0.514291  15283.647962        0.244844   \n",
      "Electronics             1309.762397  0.301594  15949.470675        0.155945   \n",
      "Everything Else          804.630000  0.055333   9790.380000        0.037050   \n",
      "Financial Services       493.402641  0.419076    419.340000        0.534483   \n",
      "Gaming & Toys            752.551582  0.124414  10981.152616        0.096317   \n",
      "Gift Cards               710.921949  0.073880  44516.507937        0.031993   \n",
      "Health & Beauty         1119.484440  0.232448  11110.645738        0.109557   \n",
      "Home & Garden            898.826715  0.154630  12907.634991        0.133693   \n",
      "Local                     21.600000  0.025000    587.760000        0.036700   \n",
      "Movies, Music, Books     434.996746  0.084997   5759.259051        0.444521   \n",
      "Office Supplies          932.617944  0.163546  14616.640137        0.259502   \n",
      "Plugs                    785.192945  0.136864  12994.440000        0.281700   \n",
      "Site News                 60.480000  0.015200   1007.760000        0.060000   \n",
      "Special Occasion         510.611284  0.129737   7181.754621        0.143464   \n",
      "Sports & Fitness         922.491913  0.127029  12357.672415        0.074761   \n",
      "Store Events            2054.365649  0.113992  43517.208367        0.105554   \n",
      "Travel & Entertainment  1057.771733  0.089241   2807.862472        0.188013   \n",
      "\n",
      "                        conversion_rate  Not Promoted  Promoted  \n",
      "level1_category_name                                             \n",
      "Automotive                     0.092334      0.985940  0.014060  \n",
      "Clothing & Accessories         0.079303      0.982163  0.017837  \n",
      "Computers                      0.066877      0.954334  0.045666  \n",
      "Electronics                    0.079174      0.980488  0.019512  \n",
      "Everything Else                0.152700      1.000000  0.000000  \n",
      "Financial Services             0.017406      0.091837  0.908163  \n",
      "Gaming & Toys                  0.075346      0.988413  0.011587  \n",
      "Gift Cards                     0.097686      0.973545  0.026455  \n",
      "Health & Beauty                0.143578      0.933093  0.066907  \n",
      "Home & Garden                  0.080509      0.983506  0.016494  \n",
      "Local                          0.027800      1.000000  0.000000  \n",
      "Movies, Music, Books           0.084397      0.913257  0.086743  \n",
      "Office Supplies                0.098297      0.991863  0.008137  \n",
      "Plugs                          0.041829      1.000000  0.000000  \n",
      "Site News                      0.006000      1.000000  0.000000  \n",
      "Special Occasion               0.079734      0.986207  0.013793  \n",
      "Sports & Fitness               0.067445      0.992865  0.007135  \n",
      "Store Events                   0.055971      0.956847  0.043153  \n",
      "Travel & Entertainment         0.017650      0.974157  0.025843  \n",
      "\n",
      "[19 rows x 22 columns]\n"
     ]
    }
   ],
   "source": [
    "level1_category_name = df.groupby(by=[\"level1_category_name\"])\n",
    "print(level1_category_name.size())\n",
    "print(level1_category_name.mean())"
   ]
  },
  {
   "cell_type": "code",
   "execution_count": 61,
   "metadata": {},
   "outputs": [
    {
     "data": {
      "text/plain": [
       "<matplotlib.axes._subplots.AxesSubplot at 0x168b6e10>"
      ]
     },
     "execution_count": 61,
     "metadata": {},
     "output_type": "execute_result"
    },
    {
     "data": {
      "image/png": "[encoded data removed]",
      "text/plain": [
       "<Figure size 864x432 with 1 Axes>"
      ]
     },
     "metadata": {
      "needs_background": "light"
     },
     "output_type": "display_data"
    }
   ],
   "source": [
    "# plot level1_category_name\n",
    "\n",
    "df[\"level1_category_name\"]= df[\"level1_category_name\"].astype(\"category\")\n",
    "df[\"level1_category_name\"].cat.categories\n",
    "df[\"level1_category_name\"].value_counts().plot(kind=\"bar\",figsize=(12,6))"
   ]
  },
  {
   "cell_type": "code",
   "execution_count": 62,
   "metadata": {},
   "outputs": [
    {
     "name": "stdout",
     "output_type": "stream",
     "text": [
      "level2_category_name\n",
      "4th Of July                     7\n",
      "Accessories                  5074\n",
      "Activewear                   1195\n",
      "After Christmas Sales           2\n",
      "Airfare                       383\n",
      "Amazon Prime Day                4\n",
      "Apple Computers               418\n",
      "Appliances                   3671\n",
      "Audio Components             4491\n",
      "Automotive                   3270\n",
      "Automotive GPSs                39\n",
      "Babies & Kids Items           648\n",
      "Back To School                  6\n",
      "Barebones PCs                   5\n",
      "Batteries                     513\n",
      "Beauty                       3698\n",
      "Bed & Bath                   3650\n",
      "Bicycling                     616\n",
      "Black Friday                   22\n",
      "Books & Magazines             987\n",
      "Camcorders                    121\n",
      "Cameras                       873\n",
      "Camping & Outdoors           2390\n",
      "Car Audio                      92\n",
      "Car Rentals                    15\n",
      "Card And Board Games          478\n",
      "Cleaning Supplies            1389\n",
      "Clothing & Accessories       5472\n",
      "Coats                        3248\n",
      "Computer Accessories         1209\n",
      "                             ... \n",
      "Site News                       1\n",
      "Skirts                         23\n",
      "Sleep & Lounge                276\n",
      "Smart Home                   1159\n",
      "Software                      903\n",
      "Sports & Fitness              663\n",
      "Storage                      1292\n",
      "Store Events                 3191\n",
      "Streaming Media Players       263\n",
      "Suits                         695\n",
      "Supplies                     1127\n",
      "Sweaters                      506\n",
      "Sweatshirts & Hoodies         915\n",
      "Swim                          268\n",
      "T-shirts                      984\n",
      "TVs                          2728\n",
      "Things To Do                   61\n",
      "Tools & Hardware             7951\n",
      "Toys & Hobbies               4755\n",
      "Travel & Entertainment         43\n",
      "Underwear                     453\n",
      "Universal Remote Controls      17\n",
      "Upgrades / Components         148\n",
      "Vacations                      66\n",
      "Valentine's Day                 7\n",
      "Video & Audio Cables           70\n",
      "Video Components               64\n",
      "Video Downloads                98\n",
      "Video Games                  1749\n",
      "Wearable Technology           921\n",
      "Length: 137, dtype: int64\n"
     ]
    }
   ],
   "source": [
    "level2_category_name = df.groupby(by=[\"level2_category_name\"])\n",
    "print(level2_category_name.size())"
   ]
  },
  {
   "cell_type": "code",
   "execution_count": 187,
   "metadata": {},
   "outputs": [
    {
     "data": {
      "text/plain": [
       "<matplotlib.axes._subplots.AxesSubplot at 0x15604e0b8>"
      ]
     },
     "execution_count": 187,
     "metadata": {},
     "output_type": "execute_result"
    },
    {
     "data": {
      "image/png": "[encoded data removed]",
      "text/plain": [
       "<Figure size 1008x576 with 1 Axes>"
      ]
     },
     "metadata": {
      "needs_background": "light"
     },
     "output_type": "display_data"
    }
   ],
   "source": [
    "df[\"level2_category_name\"]= df[\"level2_category_name\"].astype(\"category\")\n",
    "df[\"level2_category_name\"].cat.categories\n",
    "df[\"level2_category_name\"].value_counts().plot(kind=\"line\",figsize=(14,8))"
   ]
  },
  {
   "cell_type": "code",
   "execution_count": 188,
   "metadata": {},
   "outputs": [
    {
     "name": "stdout",
     "output_type": "stream",
     "text": [
      "level3_category_name\n",
      "3D Glasses                           4\n",
      "4th Of July                          7\n",
      "Accessories                       2109\n",
      "Activewear                        1195\n",
      "After Christmas Sales                2\n",
      "Air Tools                           34\n",
      "Airfare                            383\n",
      "Amazon Prime Day                     4\n",
      "Android Phones                    1038\n",
      "Apple Computers                     42\n",
      "Apple IPhones                     1275\n",
      "Appliances                         115\n",
      "Audio Components                   295\n",
      "Automated Tools                     45\n",
      "Automotive                        3270\n",
      "Automotive GPSs                     39\n",
      "BBQs & Grills                      622\n",
      "Babies & Kids Items                583\n",
      "Back To School                       6\n",
      "Backpacks                          506\n",
      "Barebones PCs                        5\n",
      "Batteries                          402\n",
      "Battery Backups/UPSs                40\n",
      "Battery Chargers & Accessories     111\n",
      "Beauty                             316\n",
      "Bed & Bath                        1544\n",
      "Bedding                           1814\n",
      "Beer, Wine, Liquor                 199\n",
      "Bicycling                          616\n",
      "Black Friday                        22\n",
      "                                  ... \n",
      "TV Wall Mounts                      82\n",
      "TVs                               2465\n",
      "Tables                             725\n",
      "Tablet Accessories                  66\n",
      "Tablets                            549\n",
      "Things To Do                        61\n",
      "Tool Storage & Organization        494\n",
      "Tools & Hardware                  2581\n",
      "Towels                             292\n",
      "Toys & Hobbies                    4755\n",
      "Travel & Entertainment              43\n",
      "USB Accessories                    355\n",
      "USB Flash Drives                   189\n",
      "Underwear                          453\n",
      "Universal Remote Controls           17\n",
      "Upgrades / Components                6\n",
      "Vacations                           66\n",
      "Valentine's Day                      7\n",
      "Video & Audio Cables                70\n",
      "Video Cards                         22\n",
      "Video Components                    38\n",
      "Video Downloads                     98\n",
      "Video Games                        231\n",
      "Vitamins                           100\n",
      "Voice-over-IP (VoIP) Phones          3\n",
      "Watches                           1325\n",
      "Wearable Technology                  4\n",
      "Weather Gadgets                    157\n",
      "Webcams                            387\n",
      "Wireless Networking                661\n",
      "Length: 278, dtype: int64\n"
     ]
    }
   ],
   "source": [
    "level3_category_name = df.groupby(by=[\"level3_category_name\"])\n",
    "print(level3_category_name.size())\n"
   ]
  },
  {
   "cell_type": "code",
   "execution_count": 189,
   "metadata": {},
   "outputs": [
    {
     "data": {
      "text/plain": [
       "<matplotlib.axes._subplots.AxesSubplot at 0x1563c8160>"
      ]
     },
     "execution_count": 189,
     "metadata": {},
     "output_type": "execute_result"
    },
    {
     "data": {
      "image/png": "[encoded data removed]",
      "text/plain": [
       "<Figure size 1008x576 with 1 Axes>"
      ]
     },
     "metadata": {
      "needs_background": "light"
     },
     "output_type": "display_data"
    }
   ],
   "source": [
    "df[\"level3_category_name\"]= df[\"level3_category_name\"].astype(\"category\")\n",
    "df[\"level3_category_name\"].cat.categories\n",
    "df[\"level3_category_name\"].value_counts().plot(kind=\"line\",figsize=(14,8))"
   ]
  },
  {
   "cell_type": "code",
   "execution_count": 175,
   "metadata": {},
   "outputs": [
    {
     "data": {
      "text/plain": [
       "burst      31640\n",
       "sustain     2856\n",
       "Name: offer_program, dtype: int64"
      ]
     },
     "execution_count": 175,
     "metadata": {},
     "output_type": "execute_result"
    }
   ],
   "source": [
    "##  for here \n",
    "df[\"offer_program\"]= df[\"offer_program\"].astype(\"category\")\n",
    "\n",
    "df[\"offer_program\"] = df[\"offer_program\"].cat.remove_categories(removals='none')\n"
   ]
  },
  {
   "cell_type": "code",
   "execution_count": 176,
   "metadata": {},
   "outputs": [
    {
     "data": {
      "text/plain": [
       "burst      31640\n",
       "sustain     2856\n",
       "Name: offer_program, dtype: int64"
      ]
     },
     "execution_count": 176,
     "metadata": {},
     "output_type": "execute_result"
    }
   ],
   "source": [
    "df[\"offer_program\"].value_counts()"
   ]
  },
  {
   "cell_type": "code",
   "execution_count": 177,
   "metadata": {},
   "outputs": [
    {
     "data": {
      "text/plain": [
       "<matplotlib.axes._subplots.AxesSubplot at 0x1322b0f0>"
      ]
     },
     "execution_count": 177,
     "metadata": {},
     "output_type": "execute_result"
    },
    {
     "data": {
      "image/png": "[encoded data removed]",
      "text/plain": [
       "<Figure size 432x576 with 1 Axes>"
      ]
     },
     "metadata": {
      "needs_background": "light"
     },
     "output_type": "display_data"
    }
   ],
   "source": [
    "df[\"offer_program\"].value_counts().plot(\"bar\",figsize=(6,8))"
   ]
  },
  {
   "cell_type": "code",
   "execution_count": 165,
   "metadata": {},
   "outputs": [
    {
     "data": {
      "text/plain": [
       "Product        127542\n",
       "Sale/Coupon     27719\n",
       "Services         2757\n",
       "Name: offer_type, dtype: int64"
      ]
     },
     "execution_count": 165,
     "metadata": {},
     "output_type": "execute_result"
    }
   ],
   "source": [
    "#o_t =df.groupby(by=[\"offer_type\"])\n",
    "#print(o_t.size())\n",
    "df[\"offer_type\"] = df[\"offer_type\"].astype(\"category\")\n",
    "df[\"offer_type\"].value_counts()\n",
    "\n"
   ]
  },
  {
   "cell_type": "code",
   "execution_count": 146,
   "metadata": {},
   "outputs": [
    {
     "data": {
      "text/plain": [
       "<matplotlib.axes._subplots.AxesSubplot at 0x142b98160>"
      ]
     },
     "execution_count": 146,
     "metadata": {},
     "output_type": "execute_result"
    },
    {
     "data": {
      "image/png": "[encoded data removed]",
      "text/plain": [
       "<Figure size 864x576 with 1 Axes>"
      ]
     },
     "metadata": {
      "needs_background": "light"
     },
     "output_type": "display_data"
    }
   ],
   "source": [
    "df[\"offer_type\"].value_counts().plot(kind=\"line\", figsize=(12,8))"
   ]
  },
  {
   "cell_type": "code",
   "execution_count": 147,
   "metadata": {},
   "outputs": [
    {
     "data": {
      "text/plain": [
       "<matplotlib.axes._subplots.AxesSubplot at 0x142fdc0b8>"
      ]
     },
     "execution_count": 147,
     "metadata": {},
     "output_type": "execute_result"
    },
    {
     "data": {
      "image/png": "[encoded data removed]",
      "text/plain": [
       "<Figure size 864x720 with 1 Axes>"
      ]
     },
     "metadata": {
      "needs_background": "light"
     },
     "output_type": "display_data"
    }
   ],
   "source": [
    "# for here I am not sure to drop No season or not, since it has hudge number and could effect on our future model\n",
    "# So I am trying ask you guys \n",
    "##############################\n",
    "df[\"season_display\"].astype(\"category\")\n",
    "df[\"season_display\"].value_counts().plot(kind=\"bar\", figsize=(12,10))\n"
   ]
  },
  {
   "cell_type": "code",
   "execution_count": 201,
   "metadata": {},
   "outputs": [
    {
     "name": "stdout",
     "output_type": "stream",
     "text": [
      "why_buy\n",
      "Apply code \" 5020MY\" to save.                         1\n",
      "Apply code \" JUMPACCY10\" to save.                     1\n",
      "Apply code \" SPRING60\" to save.                       1\n",
      "Apply code \"0461937\" to save.                         1\n",
      "Apply code \"13130\" to save.                           1\n",
      "Apply code \"15AC\" to save.                            1\n",
      "Apply code \"15DEALNEWS\" to save.                      1\n",
      "Apply code \"15TH5QN7\" for a savings of $21.10.        2\n",
      "Apply code \"19GIFTCARD\" to save.                      1\n",
      "Apply code \"203OOUOH\" for a savings of $21.90.        2\n",
      "Apply code \"20FULLPRICE \" to save.                    1\n",
      "Apply code \"20MAKE4120\" to save.                      1\n",
      "Apply code \"20OFF\" to save.                           1\n",
      "Apply code \"20OMTU2H\" for a savings of $32.00.        2\n",
      "Apply code \"22QCA43B\" to save.                        2\n",
      "Apply code \"23MBYBNE\" to save.                        2\n",
      "Apply code \"24SHIP\" to save.                          1\n",
      "Apply code \"25AORDA1\" to save.                        2\n",
      "Apply code \"25ETEKFTMG\" for a savings of $30.         2\n",
      "Apply code \"25QY87XE\" for a savings of $49.98.        2\n",
      "Apply code \"28IM9CVE\" for a savings of $29.39.        2\n",
      "Apply code \"2AVBR349\" to save.                        2\n",
      "Apply code \"2BNSTSQI\" for a savings of $8.10.         1\n",
      "Apply code \"2DBV9YBE\" for a savings of $13.95.        2\n",
      "Apply code \"2LB5GJ8H\" for a savings of $20.           2\n",
      "Apply code \"2VVQPDUC\" for a savings of $35.99.        2\n",
      "Apply code \"2WWAQBDU\" for a savings of $679.50.       2\n",
      "Apply code \"2ZZ3L7GM\" for a savings of $5.40.         2\n",
      "Apply code \"3020DEAL4U\" to save.                      1\n",
      "Apply code \"309YB53B\" for a savings of $52.00.        2\n",
      "                                                     ..\n",
      "Use \"YRN8MASV\" to save $18.20 after discount.         1\n",
      "Use \"YUMXBRWF\" to save $72 off list.                  1\n",
      "Use \"YiIoTK2cam\" to save $9.90 after discount.        1\n",
      "Use \"Z365ZVY8\" to save $18.40 after discount.         1\n",
      "Use \"Z4I6D6PR\" to save $26.00 after discount.         1\n",
      "Use \"Z7WDR99V\" to save $20.50 after discount.         1\n",
      "Use \"Z8GRWUCL\" to save $12 after discount.            1\n",
      "Use \"ZEIKPCO6\" to save $10.00 after discount.         1\n",
      "Use \"ZF524PVO\" to save $10.00 off list.               2\n",
      "Use \"ZFFNRWB4\" to save $55.00 after discount.         1\n",
      "Use \"ZIPSHERPA\" to save $6.50 after discount.         1\n",
      "Use \"ZN9D6GGW\" to save $15.00 after discount.         1\n",
      "Use \"ZUPAZR\" to save $36.84 off list.                 1\n",
      "Use \"ZVVW4R3Z\" to save $13.50 after discount.         1\n",
      "Use \"ZYA6NF6N\" to save $11.01 after discount.         1\n",
      "Use \"ZYPIBF6H\" to save $4.05 after discount.          1\n",
      "Use \"bfwarmup\" to save $29.20 after discount.         1\n",
      "Use \"collagen2\" to save $3.99 after discount.         1\n",
      "Use \"dealnews101\" to save $101 after discount.        1\n",
      "Use \"dealnews252\" to save $252 after discount.        1\n",
      "Use \"dealnews33\" to save $33 after discount.          1\n",
      "Use \"dealnews60\" to save $22 off list.                1\n",
      "Use \"dealnews75Sale\" to save $57.50 off list.         1\n",
      "Use \"dealnews80\" to save $57.99 off list.             1\n",
      "Use \"dealnews81\" to save $80.99 after discount.       1\n",
      "Use \"dealnews83\" to save $132.79 after discount.      1\n",
      "Use \"dealym57\" to save $20 after discount.            1\n",
      "Use \"greatdeal234\" to save $19.20 after discount.     1\n",
      "Use \"ohyeahpower10\" to save $59.99 after discount.    1\n",
      "Use \"sixstarforher72\" to save $60.01 off list.        1\n",
      "Length: 36575, dtype: int64\n"
     ]
    },
    {
     "data": {
      "text/plain": [
       "Unknown                                                     42115\n",
       "It's $5 under list price.                                    1821\n",
       "It's $10 under list price.                                   1807\n",
       "It's $20 under list price.                                   1603\n",
       "It's $30 under list price.                                   1553\n",
       "It's $3 under list price.                                    1503\n",
       "It's $50 under list price.                                   1413\n",
       "It's $4 under list price.                                    1403\n",
       "It's $6 under list price.                                    1397\n",
       "It's $2 under list price.                                    1363\n",
       "It's $7 under list price.                                    1269\n",
       "It's $15 under list price.                                   1218\n",
       "It's $40 under list price.                                   1180\n",
       "It's $8 under list price.                                    1150\n",
       "It's $100 under list price.                                  1057\n",
       "It's $9 under list price.                                     990\n",
       "It's $60 under list price.                                    898\n",
       "It's $11 under list price.                                    880\n",
       "It's $12 under list price.                                    867\n",
       "It's $13 under list price.                                    784\n",
       "It's $25 under list price.                                    777\n",
       "It's $70 under list price.                                    774\n",
       "It's $14 under list price.                                    679\n",
       "It's $35 under list price.                                    669\n",
       "It's $80 under list price.                                    667\n",
       "It's $200 under list price.                                   594\n",
       "It's $18 under list price.                                    565\n",
       "It's $16 under list price.                                    555\n",
       "It's $17 under list price.                                    531\n",
       "It's $45 under list price.                                    521\n",
       "                                                            ...  \n",
       "Apply coupon code \"NICE\" for a savings of $75.                  1\n",
       "Apply coupon code \"NICE5x7\" to save.                            1\n",
       "Apply coupon code \"NICE9987\" for a savings of $24.              1\n",
       "Apply coupon code \"NGTEW3P2\" for a savings of $60.              1\n",
       "Apply coupon code \"NGOYU2JQ\" for a savings of $19.              1\n",
       "Apply coupon code \"NGLJYGYR\" for a savings of $21.              1\n",
       "Apply coupon code \"NEYHBXNA\" for a savings of $9.               1\n",
       "Apply coupon code \"NEWYEAR21\" to save.                          1\n",
       "Apply coupon code \"NEWYEAR30\" to save.                          1\n",
       "Apply coupon code \"NEWYEARFSNM\" to save.                        1\n",
       "Apply coupon code \"NEWYEARGAMING\" for a savings of $400.        1\n",
       "Apply coupon code \"NEWYEARS\" for a savings of $38.              1\n",
       "Apply coupon code \"NEWYOU20\" for a savings of $1.               1\n",
       "Apply coupon code \"NEWYOU20\" for a savings of $4.               1\n",
       "Apply coupon code \"NEWYOU20\" for a savings of $5.               1\n",
       "Apply coupon code \"NEWYR\" to save.                              1\n",
       "Apply coupon code \"NEX5KIRM\" for a savings of $5.               1\n",
       "Apply coupon code \"NEYZCC8K\" for a savings of $10.              1\n",
       "Apply coupon code \"NGGRAZU2\" for a savings of $2.               1\n",
       "Apply coupon code \"NF6B42BS\" to save.                           1\n",
       "Apply coupon code \"NF8MO3ZL\" for a savings of $13.              1\n",
       "Apply coupon code \"NF99L86J6\" for a savings of $120.            1\n",
       "Apply coupon code \"NFE5DTO4\" for a savings of $7.               1\n",
       "Apply coupon code \"NFL20\" to save.                              1\n",
       "Apply coupon code \"NFLDEALS\" to save.                           1\n",
       "Apply coupon code \"NFMMP54V\" for a savings of $9.               1\n",
       "Apply coupon code \"NFS39MA7\" for a savings of $4.               1\n",
       "Apply coupon code \"NG8JV6IE\" for a savings of $10.              1\n",
       "Apply coupon code \"NGAUMSAW\" for a savings of $14.              1\n",
       "Apply code \" 5020MY\" to save.                                   1\n",
       "Name: why_buy, Length: 36575, dtype: int64"
      ]
     },
     "execution_count": 201,
     "metadata": {},
     "output_type": "execute_result"
    }
   ],
   "source": [
    "## For here I am thinking to classifier three category using \"Apply code....\", \"Use....\", \"...Under list price\" \n",
    "# that may\n",
    "# easy to identify \n",
    "\n",
    "why_buy = df.groupby(by=[\"why_buy\"])\n",
    "print(why_buy.size())\n",
    "df[\"why_buy\"]= df[\"why_buy\"].astype(\"category\")\n",
    "df[\"why_buy\"].value_counts()\n"
   ]
  },
  {
   "cell_type": "code",
   "execution_count": 196,
   "metadata": {},
   "outputs": [
    {
     "data": {
      "text/plain": [
       "free shipping w/ Prime                             27071\n",
       "pickup                                              3300\n",
       "free shipping w/ $35                                2505\n",
       "pickup at Walmart                                   2425\n",
       "free shipping w/ $75                                2054\n",
       "pickup at Macy's                                    1934\n",
       "free shipping w/ $50                                1849\n",
       "free shipping w/ $25                                1699\n",
       "free shipping w/ Prime                              1561\n",
       "free shipping w/ $49                                1525\n",
       "free shipping w/Prime                               1400\n",
       "free shipping via Prime                             1399\n",
       "free shipping                                       1205\n",
       "free shipping w/ $45                                 592\n",
       "free shipping w/ $99                                 587\n",
       "pickup at Kohl's                                     574\n",
       "free shipping w/ $100                                535\n",
       "curbside pickup                                      481\n",
       "pickup at Home Depot                                 409\n",
       "free shipping w/ beauty item                         306\n",
       "pickup at JCPenney                                   257\n",
       "digital download                                     257\n",
       "pickup at Sears                                      190\n",
       "free shipping w/ $89                                 178\n",
       "digital delivery                                     177\n",
       "digital access                                       136\n",
       "free shipping w/ $60                                 120\n",
       "free shipping w/ $39                                 110\n",
       "$4 pickup at JCPenney                                101\n",
       "download                                              99\n",
       "                                                   ...  \n",
       "free shipping w/ 449                                   1\n",
       "extra 15% off via curbside pickup                      1\n",
       "free shipping w/ $300                                  1\n",
       "free shipping w/ $49 for new customers                 1\n",
       "in-store at Big Lots                                   1\n",
       "free shipping w/ $65+                                  1\n",
       "free shipping w/ $499                                  1\n",
       "$2.49 shipping                                         1\n",
       "free shipping via Prme                                 1\n",
       "free shipping w/ $50 (before in-cart discounts)        1\n",
       "from $9 shipping                                       1\n",
       "$1 shipping                                            1\n",
       "free ground shipping                                   1\n",
       "free shpping w/ $75                                    1\n",
       "free shipping w/$65                                    1\n",
       "free shipping w/ 3 or more items                       1\n",
       "free shipping w/ Rewards                               1\n",
       "Free shipping with account                             1\n",
       "$5.99 w/ $10 or more                                   1\n",
       "free shipping w/ $500                                  1\n",
       "shipping from $4.95                                    1\n",
       "for Audible members                                    1\n",
       "pick at Walmart                                        1\n",
       "Many orders receive free shipping                      1\n",
       "free shipping on $99                                   1\n",
       "free shipping w/ $99.99                                1\n",
       "free shipping on $25                                   1\n",
       "free shipping on $50+                                  1\n",
       "frees shipping on $150                                 1\n",
       "at Schlotzsky's                                        1\n",
       "Name: special_shipping_offer, Length: 791, dtype: int64"
      ]
     },
     "execution_count": 196,
     "metadata": {},
     "output_type": "execute_result"
    }
   ],
   "source": [
    "\n",
    "df[\"special_shipping_offer\"]= df[\"special_shipping_offer\"].astype(\"category\")\n",
    "# print(df[\"special_shipping_offer\"].|value_counts(dropna=True))\n",
    "\n",
    "#df[\"special_shipping_offer\"].cat.remove_categories(\"Unknown\")\n",
    "df[\"special_shipping_offer\"]= df[\"special_shipping_offer\"].cat.remove_categories(removals=['Unknown'])\n",
    "df[\"special_shipping_offer\"].value_counts()\n"
   ]
  },
  {
   "cell_type": "code",
   "execution_count": 197,
   "metadata": {
    "scrolled": true
   },
   "outputs": [
    {
     "data": {
      "text/plain": [
       "<matplotlib.axes._subplots.AxesSubplot at 0x156c25208>"
      ]
     },
     "execution_count": 197,
     "metadata": {},
     "output_type": "execute_result"
    },
    {
     "data": {
      "image/png": "[encoded data removed]",
      "text/plain": [
       "<Figure size 864x1296 with 1 Axes>"
      ]
     },
     "metadata": {
      "needs_background": "light"
     },
     "output_type": "display_data"
    }
   ],
   "source": [
    "df[\"special_shipping_offer\"].value_counts().plot(kind=\"line\", figsize=(12,18))\n",
    "                                                "
   ]
  },
  {
   "cell_type": "code",
   "execution_count": 10,
   "metadata": {},
   "outputs": [
    {
     "name": "stdout",
     "output_type": "stream",
     "text": [
      "<class 'pandas.core.frame.DataFrame'>\n",
      "RangeIndex: 158018 entries, 0 to 158017\n",
      "Data columns (total 38 columns):\n",
      "content_key               158018 non-null int64\n",
      "vendor_key                158018 non-null int64\n",
      "editors_choice            158018 non-null object\n",
      "promoted                  158018 non-null object\n",
      "first_publish_date        158018 non-null datetime64[ns]\n",
      "holiday_display           158018 non-null category\n",
      "level1_category_name      158018 non-null object\n",
      "level2_category_name      158018 non-null object\n",
      "level3_category_name      158018 non-null object\n",
      "mfg_id                    157988 non-null float64\n",
      "offer_program             155822 non-null object\n",
      "offer_type                158018 non-null object\n",
      "product_id                158018 non-null int64\n",
      "season_display            158018 non-null object\n",
      "special_shipping_offer    158018 non-null object\n",
      "why_buy                   158018 non-null object\n",
      "cd_list_price             158018 non-null float64\n",
      "cd_price                  158018 non-null float64\n",
      "discount                  94478 non-null float64\n",
      "shipping_cost             158018 non-null float64\n",
      "hotness                   158018 non-null int64\n",
      "rank                      142905 non-null float64\n",
      "clicks                    158018 non-null int64\n",
      "conversion_clicks         158018 non-null int64\n",
      "convertible_clicks        158018 non-null int64\n",
      "return_clicks             158018 non-null int64\n",
      "items_sold                158018 non-null int64\n",
      "revenue                   158018 non-null float64\n",
      "RPC                       145637 non-null float64\n",
      "sale_amount               158018 non-null float64\n",
      "comission_rate            113812 non-null float64\n",
      "conversion_rate           112894 non-null float64\n",
      "Not Promoted              158018 non-null uint8\n",
      "Promoted                  158018 non-null uint8\n",
      "Not Promoted              158018 non-null uint8\n",
      "Promoted                  158018 non-null uint8\n",
      "Not Promoted              158018 non-null uint8\n",
      "Promoted                  158018 non-null uint8\n",
      "dtypes: category(1), datetime64[ns](1), float64(11), int64(9), object(10), uint8(6)\n",
      "memory usage: 38.4+ MB\n"
     ]
    }
   ],
   "source": [
    "##  handling numerical data \n",
    "df.info()"
   ]
  },
  {
   "cell_type": "code",
   "execution_count": 15,
   "metadata": {},
   "outputs": [
    {
     "name": "stdout",
     "output_type": "stream",
     "text": [
      "0        2020-01-03 16:21:23\n",
      "1        2019-08-18 08:09:51\n",
      "2        2019-08-18 08:12:54\n",
      "3        2019-06-18 13:39:48\n",
      "4        2019-07-29 08:21:13\n",
      "5        2019-12-28 15:04:00\n",
      "6        2019-07-29 10:09:01\n",
      "7        2019-09-07 14:18:24\n",
      "8        2019-08-26 03:44:22\n",
      "9        2019-08-12 06:35:14\n",
      "10       2019-06-13 15:29:28\n",
      "11       2019-07-16 03:45:16\n",
      "12       2019-07-24 10:15:36\n",
      "13       2019-07-31 04:57:35\n",
      "14       2020-03-26 14:46:08\n",
      "15       2019-09-12 11:24:38\n",
      "16       2020-05-12 09:55:47\n",
      "17       2020-05-26 18:13:29\n",
      "18       2020-03-03 10:26:13\n",
      "19       2020-05-03 09:28:50\n",
      "20       2020-04-27 09:11:51\n",
      "21       2021-02-08 02:08:07\n",
      "22       2019-08-05 16:28:47\n",
      "23       2019-09-20 14:45:38\n",
      "24       2019-09-20 14:52:53\n",
      "25       2020-04-16 23:08:09\n",
      "26       2020-02-07 13:40:36\n",
      "27       2019-10-26 16:18:18\n",
      "28       2020-02-29 11:46:36\n",
      "29       2020-08-02 12:52:40\n",
      "                 ...        \n",
      "157988   2019-10-21 11:27:43\n",
      "157989   2020-01-22 13:49:54\n",
      "157990   2019-08-21 19:55:31\n",
      "157991   2020-09-03 10:34:53\n",
      "157992   2021-01-28 10:44:01\n",
      "157993   2021-01-22 11:37:47\n",
      "157994   2019-09-17 16:51:47\n",
      "157995   2019-10-10 11:31:03\n",
      "157996   2019-09-03 17:21:42\n",
      "157997   2019-05-18 10:07:18\n",
      "157998   2020-09-29 08:27:55\n",
      "157999   2021-01-22 16:20:54\n",
      "158000   2020-05-22 16:03:40\n",
      "158001   2019-09-14 13:52:41\n",
      "158002   2019-07-25 05:11:06\n",
      "158003   2019-10-15 16:05:31\n",
      "158004   2019-06-06 16:33:19\n",
      "158005   2020-08-27 14:05:16\n",
      "158006   2021-02-04 08:33:47\n",
      "158007   2020-10-09 18:00:35\n",
      "158008   2021-01-15 11:30:27\n",
      "158009   2019-10-03 03:05:09\n",
      "158010   2020-07-28 11:00:58\n",
      "158011   2019-08-02 06:30:17\n",
      "158012   2019-10-03 14:47:36\n",
      "158013   2019-12-27 12:11:38\n",
      "158014   2021-02-08 20:04:50\n",
      "158015   2021-02-04 19:16:41\n",
      "158016   2020-03-24 11:52:16\n",
      "158017   2020-09-04 17:50:47\n",
      "Name: first_publish_date, Length: 158018, dtype: datetime64[ns]\n",
      "count                  158018\n",
      "unique                 139173\n",
      "top       2020-11-27 00:00:00\n",
      "freq                       55\n",
      "first     2019-01-25 12:58:19\n",
      "last      2021-02-09 00:00:00\n",
      "Name: first_publish_date, dtype: object\n"
     ]
    }
   ],
   "source": [
    "## do we necessary need the specific time or just keep the date on the list?\n",
    "print(df['first_publish_date'])\n",
    "print(df['first_publish_date'].describe())"
   ]
  },
  {
   "cell_type": "code",
   "execution_count": 43,
   "metadata": {},
   "outputs": [
    {
     "data": {
      "text/plain": [
       "0         2020-01-03\n",
       "1         2019-08-18\n",
       "2         2019-08-18\n",
       "3         2019-06-18\n",
       "4         2019-07-29\n",
       "5         2019-12-28\n",
       "6         2019-07-29\n",
       "7         2019-09-07\n",
       "8         2019-08-26\n",
       "9         2019-08-12\n",
       "10        2019-06-13\n",
       "11        2019-07-16\n",
       "12        2019-07-24\n",
       "13        2019-07-31\n",
       "14        2020-03-26\n",
       "15        2019-09-12\n",
       "16        2020-05-12\n",
       "17        2020-05-26\n",
       "18        2020-03-03\n",
       "19        2020-05-03\n",
       "20        2020-04-27\n",
       "21        2021-02-08\n",
       "22        2019-08-05\n",
       "23        2019-09-20\n",
       "24        2019-09-20\n",
       "25        2020-04-16\n",
       "26        2020-02-07\n",
       "27        2019-10-26\n",
       "28        2020-02-29\n",
       "29        2020-08-02\n",
       "             ...    \n",
       "157988    2019-10-21\n",
       "157989    2020-01-22\n",
       "157990    2019-08-21\n",
       "157991    2020-09-03\n",
       "157992    2021-01-28\n",
       "157993    2021-01-22\n",
       "157994    2019-09-17\n",
       "157995    2019-10-10\n",
       "157996    2019-09-03\n",
       "157997    2019-05-18\n",
       "157998    2020-09-29\n",
       "157999    2021-01-22\n",
       "158000    2020-05-22\n",
       "158001    2019-09-14\n",
       "158002    2019-07-25\n",
       "158003    2019-10-15\n",
       "158004    2019-06-06\n",
       "158005    2020-08-27\n",
       "158006    2021-02-04\n",
       "158007    2020-10-09\n",
       "158008    2021-01-15\n",
       "158009    2019-10-03\n",
       "158010    2020-07-28\n",
       "158011    2019-08-02\n",
       "158012    2019-10-03\n",
       "158013    2019-12-27\n",
       "158014    2021-02-08\n",
       "158015    2021-02-04\n",
       "158016    2020-03-24\n",
       "158017    2020-09-04\n",
       "Name: first_publish_date, Length: 158018, dtype: object"
      ]
     },
     "execution_count": 43,
     "metadata": {},
     "output_type": "execute_result"
    }
   ],
   "source": [
    "## remove specific time \n",
    "# not necesary to remove the duplicated variable \n",
    "# since it has been remove to specific time \n",
    "df['first_publish_date'] = pd.to_datetime(df['first_publish_date']).dt.date\n",
    "df['first_publish_date']"
   ]
  },
  {
   "cell_type": "code",
   "execution_count": 35,
   "metadata": {},
   "outputs": [
    {
     "data": {
      "text/plain": [
       "count    158018.000000\n",
       "mean         92.719696\n",
       "std         233.846577\n",
       "min           0.000000\n",
       "25%           6.490000\n",
       "50%          19.980000\n",
       "75%          64.980000\n",
       "max        6996.980000\n",
       "Name: cd_price, dtype: float64"
      ]
     },
     "execution_count": 35,
     "metadata": {},
     "output_type": "execute_result"
    }
   ],
   "source": [
    "df['cd_price'].describe()"
   ]
  },
  {
   "cell_type": "code",
   "execution_count": 48,
   "metadata": {},
   "outputs": [
    {
     "data": {
      "text/plain": [
       "count    158018.000000\n",
       "mean          0.298458\n",
       "std           4.664395\n",
       "min           0.000000\n",
       "25%           0.000000\n",
       "50%           0.000000\n",
       "75%           0.000000\n",
       "max        1200.000000\n",
       "Name: shipping_cost, dtype: float64"
      ]
     },
     "execution_count": 48,
     "metadata": {},
     "output_type": "execute_result"
    }
   ],
   "source": [
    "df['shipping_cost'].describe()\n"
   ]
  },
  {
   "cell_type": "code",
   "execution_count": 182,
   "metadata": {},
   "outputs": [
    {
     "data": {
      "text/plain": [
       "content_key                    0\n",
       "vendor_key                     0\n",
       "editors_choice                 0\n",
       "promoted                       0\n",
       "first_publish_date             0\n",
       "holiday_display                0\n",
       "level1_category_name           0\n",
       "level2_category_name           0\n",
       "level3_category_name           0\n",
       "mfg_id                        30\n",
       "offer_program             123522\n",
       "offer_type                     0\n",
       "product_id                     0\n",
       "season_display                 0\n",
       "special_shipping_offer         0\n",
       "why_buy                        0\n",
       "cd_list_price                  0\n",
       "cd_price                       0\n",
       "discount                       0\n",
       "shipping_cost                  0\n",
       "hotness                        0\n",
       "rank                       15113\n",
       "clicks                         0\n",
       "conversion_clicks              0\n",
       "convertible_clicks             0\n",
       "return_clicks                  0\n",
       "items_sold                     0\n",
       "revenue                        0\n",
       "RPC                            0\n",
       "sale_amount                    0\n",
       "comission_rate                 0\n",
       "conversion_rate                0\n",
       "Not Promoted                   0\n",
       "Promoted                       0\n",
       "dtype: int64"
      ]
     },
     "execution_count": 182,
     "metadata": {},
     "output_type": "execute_result"
    }
   ],
   "source": [
    "##  total amount missing value \n",
    "# discount, rank, PRC, commission_rate and conversion_rate\n",
    "df.isna().sum()"
   ]
  },
  {
   "cell_type": "code",
   "execution_count": 163,
   "metadata": {},
   "outputs": [
    {
     "name": "stdout",
     "output_type": "stream",
     "text": [
      "   discount    RPC   comission_rate\n",
      "0     12.03  0.0099          0.0501\n",
      "1    100.00  0.1808          0.0547\n",
      "2     18.01  0.1767          0.2938\n",
      "3     32.01  0.1529          0.1600\n",
      "4     12.68  0.2413          0.0431\n"
     ]
    }
   ],
   "source": [
    "# for the coulmn \"discount\", \"RPC\",\"comission_rate\", \n",
    "# imputer most_frequent number replace of missing value\n",
    "\n",
    "from sklearn.impute import SimpleImputer\n",
    "Imputer = SimpleImputer(missing_values = np.nan, strategy ='most_frequent')\n",
    "Imputer.fit((df[['discount','RPC ','comission_rate']].values))\n",
    "df[['discount','RPC ','comission_rate']]=Imputer.transform(df[['discount','RPC ','comission_rate']].values)\n",
    "print(df[['discount','RPC ','comission_rate']].head())"
   ]
  },
  {
   "cell_type": "code",
   "execution_count": 161,
   "metadata": {},
   "outputs": [
    {
     "data": {
      "text/plain": [
       "0         0.008800\n",
       "1         0.081584\n",
       "2         0.081584\n",
       "3         0.081584\n",
       "4         0.081584\n",
       "5         0.081584\n",
       "6         0.081584\n",
       "7         0.081584\n",
       "8         0.053000\n",
       "9         0.081584\n",
       "10        0.019700\n",
       "11        0.081584\n",
       "12        0.131800\n",
       "13        0.146500\n",
       "14        0.026700\n",
       "15        0.069700\n",
       "16        0.081584\n",
       "17        0.083700\n",
       "18        0.065000\n",
       "19        0.031300\n",
       "20        0.081584\n",
       "21        0.046400\n",
       "22        0.081584\n",
       "23        0.040200\n",
       "24        0.022400\n",
       "25        0.013800\n",
       "26        0.049400\n",
       "27        0.052100\n",
       "28        0.012200\n",
       "29        0.014300\n",
       "            ...   \n",
       "157988    0.022200\n",
       "157989    0.051600\n",
       "157990    0.067500\n",
       "157991    0.020100\n",
       "157992    0.034500\n",
       "157993    0.049100\n",
       "157994    0.016100\n",
       "157995    0.000000\n",
       "157996    0.040300\n",
       "157997    0.017200\n",
       "157998    0.026700\n",
       "157999    0.060400\n",
       "158000    0.015000\n",
       "158001    0.008000\n",
       "158002    0.040200\n",
       "158003    0.012900\n",
       "158004    0.011400\n",
       "158005    0.018900\n",
       "158006    0.032000\n",
       "158007    0.021000\n",
       "158008    0.047900\n",
       "158009    0.006600\n",
       "158010    0.048700\n",
       "158011    0.060800\n",
       "158012    0.003200\n",
       "158013    0.008000\n",
       "158014    0.056500\n",
       "158015    0.081584\n",
       "158016    0.016800\n",
       "158017    0.031700\n",
       "Name: conversion_rate, Length: 158018, dtype: float64"
      ]
     },
     "execution_count": 161,
     "metadata": {},
     "output_type": "execute_result"
    }
   ],
   "source": [
    "# conversion_rate the most frequent value at zero\n",
    "# just using mean value for this column\n",
    "mean = df['conversion_rate'].mean()\n",
    "df['conversion_rate'] = df['conversion_rate'].fillna(mean)\n"
   ]
  },
  {
   "cell_type": "code",
   "execution_count": null,
   "metadata": {},
   "outputs": [],
   "source": [
    "## process language test to classifier \n"
   ]
  },
  {
   "cell_type": "code",
   "execution_count": null,
   "metadata": {},
   "outputs": [],
   "source": []
  }
 ],
 "metadata": {
  "kernelspec": {
   "display_name": "Python 2",
   "language": "python",
   "name": "python2"
  },
  "language_info": {
   "codemirror_mode": {
    "name": "ipython",
    "version": 2
   },
   "file_extension": ".py",
   "mimetype": "text/x-python",
   "name": "python",
   "nbconvert_exporter": "python",
   "pygments_lexer": "ipython2",
   "version": "2.7.16"
  }
 },
 "nbformat": 4,
 "nbformat_minor": 2
}
